{
 "cells": [
  {
   "cell_type": "code",
   "execution_count": null,
   "metadata": {},
   "outputs": [],
   "source": [
    "import pandas as pd\n",
    "from matplotlib import pyplot as plt\n",
    "import seaborn as sns\n",
    "import numpy as np\n",
    "from sklearn.preprocessing import MinMaxScaler"
   ]
  },
  {
   "cell_type": "code",
   "execution_count": null,
   "metadata": {},
   "outputs": [],
   "source": [
    "df = pd.read_csv('./airfoil_self_noise.dat', delimiter='\\t', names=[\n",
    "    'Frequency',\n",
    "    'Angle of attack',\n",
    "    'Chord length',\n",
    "    'Free-stream velocity',\n",
    "    'Suction side displacement thickness',\n",
    "    'Sound pressure level'\n",
    "])\n",
    "col_names = list(df)\n",
    "cols = len(col_names)"
   ]
  },
  {
   "cell_type": "code",
   "execution_count": null,
   "metadata": {},
   "outputs": [],
   "source": [
    "fig, ax = plt.subplots(ncols=2, nrows=cols, figsize=(2*10, cols*10))\n",
    "for i in range(cols):\n",
    "    label = col_names[i]\n",
    "    data = df[label]\n",
    "    ax[i][0].set_xlabel(label)\n",
    "    ax[i][0].hist(data)\n",
    "    ax[i][1].set_xlabel(label)\n",
    "    ax[i][1].boxplot(data)\n",
    "plt.show()\n",
    "    "
   ]
  },
  {
   "cell_type": "code",
   "execution_count": null,
   "metadata": {},
   "outputs": [],
   "source": [
    "sns.heatmap(df.corr(method='spearman'), annot=True)"
   ]
  },
  {
   "cell_type": "code",
   "execution_count": null,
   "metadata": {},
   "outputs": [],
   "source": [
    "fig, ax = plt.subplots(cols, cols, figsize=(cols*4, cols*4))\n",
    "fig.tight_layout(pad=1.5)\n",
    "for i in range(cols):\n",
    "    for j in range(cols):\n",
    "        ax[i][j].scatter(df[col_names[i]], df[col_names[j]])\n",
    "        ax[i][j].set_xlabel(col_names[i])\n",
    "        ax[i][j].set_ylabel(col_names[j])"
   ]
  },
  {
   "cell_type": "code",
   "execution_count": null,
   "metadata": {},
   "outputs": [],
   "source": [
    "df_no_outliers = df.copy()\n",
    "for n in col_names:\n",
    "    Q1 = df[n].quantile(0.25)\n",
    "    Q3 = df[n].quantile(0.75)\n",
    "    max = Q3 + 1.5 * (Q3 - Q1)\n",
    "    min = Q1 - 1.5 * (Q3 - Q1)\n",
    "    df_no_outliers.loc[(df_no_outliers[n] > max),n] = np.nan\n",
    "    df_no_outliers.loc[(df_no_outliers[n] < min),n] = np.nan\n",
    "    median = df_no_outliers[n].quantile(0.50)\n",
    "    df_no_outliers[n] = df_no_outliers[n].fillna(median)"
   ]
  },
  {
   "cell_type": "code",
   "execution_count": null,
   "metadata": {},
   "outputs": [],
   "source": [
    "cleaned_col_names = list(set(col_names) - {'Chord length', 'Free-stream velocity'})\n",
    "cleaned_cols = len(cleaned_col_names)\n",
    "fig, ax = plt.subplots(ncols=2, nrows=cleaned_cols, figsize=(2*10, cleaned_cols*10))\n",
    "for i in range(cleaned_cols):\n",
    "    label = cleaned_col_names[i]\n",
    "    data = df_no_outliers[label]\n",
    "    ax[i][0].set_xlabel(label)\n",
    "    ax[i][0].hist(data)\n",
    "    ax[i][1].set_xlabel(label)\n",
    "    ax[i][1].boxplot(data)\n",
    "plt.show()\n"
   ]
  },
  {
   "cell_type": "code",
   "execution_count": null,
   "metadata": {},
   "outputs": [],
   "source": [
    "fig, ax = plt.subplots(cleaned_cols, cleaned_cols, \n",
    "                       figsize=(cleaned_cols*4, cleaned_cols*4))\n",
    "fig.tight_layout(pad=1.5)\n",
    "for i in range(cleaned_cols):\n",
    "    for j in range(cleaned_cols):\n",
    "        ax[i][j].scatter(df[col_names[i]], df[col_names[j]])\n",
    "        ax[i][j].set_xlabel(col_names[i])\n",
    "        ax[i][j].set_ylabel(col_names[j])"
   ]
  },
  {
   "cell_type": "code",
   "execution_count": null,
   "metadata": {},
   "outputs": [],
   "source": [
    "from sklearn.preprocessing import RobustScaler\n",
    "\n",
    "\n",
    "input_col_names = list(set(col_names) - {'Sound pressure level'})\n",
    "input_cols = len(input_col_names)\n",
    "df_after_all = df_no_outliers.copy()\n",
    "df_after_all[input_col_names] = RobustScaler().fit_transform(df_no_outliers[input_col_names])"
   ]
  },
  {
   "cell_type": "code",
   "execution_count": null,
   "metadata": {},
   "outputs": [],
   "source": [
    "fig, ax = plt.subplots(ncols=2, nrows=input_cols, figsize=(2*10, input_cols*10))\n",
    "for i in range(len(input_col_names)):\n",
    "    label = input_col_names[i]\n",
    "    data = df_after_all[label]\n",
    "    ax[i][0].set_xlabel(label)\n",
    "    ax[i][0].hist(data)\n",
    "    ax[i][1].set_xlabel(label)\n",
    "    ax[i][1].boxplot(data)\n",
    "plt.show()"
   ]
  },
  {
   "cell_type": "code",
   "execution_count": null,
   "metadata": {},
   "outputs": [],
   "source": [
    "fig, ax = plt.subplots(input_cols, input_cols, \n",
    "                       figsize=(input_cols*4, input_cols*4))\n",
    "fig.tight_layout(pad=1.5)\n",
    "for i in range(input_cols):\n",
    "    for j in range(input_cols):\n",
    "        ax[i][j].scatter(df[col_names[i]], df[col_names[j]])\n",
    "        ax[i][j].set_xlabel(col_names[i])\n",
    "        ax[i][j].set_ylabel(col_names[j])"
   ]
  }
 ],
 "metadata": {
  "kernelspec": {
   "display_name": ".venv",
   "language": "python",
   "name": "python3"
  },
  "language_info": {
   "codemirror_mode": {
    "name": "ipython",
    "version": 3
   },
   "file_extension": ".py",
   "mimetype": "text/x-python",
   "name": "python",
   "nbconvert_exporter": "python",
   "pygments_lexer": "ipython3",
   "version": "3.11.8"
  }
 },
 "nbformat": 4,
 "nbformat_minor": 2
}
